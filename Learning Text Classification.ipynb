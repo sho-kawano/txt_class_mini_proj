{
 "cells": [
  {
   "cell_type": "markdown",
   "metadata": {},
   "source": [
    "# Learning Text Classification\n",
    "This is a notebook I created to learn how to set up and perform basic text classification using two classifiers: Naive Bayes and Logistic Regression.  Most of my ML-type data analysis work was previously in regression-based problems so this provided good experience in order for me to expand my knowledge. \n",
    "\n",
    "\n",
    "This [link from the sckit-learn website](https://scikit-learn.org/stable/tutorial/text_analytics/working_with_text_data.html) is an extremely good resource that provided good guidance for me to conceptualize things.  I mostly just recreated what was done there in that link in this Jupyter Notebook with additional notes for classification/NLP newbies like me.  \n",
    "\n",
    "\n",
    "Quick Table of Contents:\n",
    "\n",
    "1. [Loading Dataset](#Loading-the-20-Newsgroups-Dataset)\n",
    "2. [Feature Extraction](#Feature-Extraction)\n",
    "3. [Training Naive Bayes](#Training-a-NB-Classifier)\n",
    "4. [Training via Pipeline](#Training-via-Pipeline)\n",
    "5. [Assessing the Performance of Classifiers](#Assessing-the-Performance-of-Classifiers)\n",
    "6. [Training Logistic Regression](#Training-a-Logistic-Regression-Classifier)"
   ]
  },
  {
   "cell_type": "markdown",
   "metadata": {},
   "source": [
    "## Loading the 20 Newsgroups Dataset"
   ]
  },
  {
   "cell_type": "markdown",
   "metadata": {},
   "source": [
    "Apparently the 20 News Grops data is the default \"data set for experiments in text applications of machine learning techniques, such as text classification and text clustering\". It's kind of like the famous iris dataset. It contains approximately 20,000 newsgroup documents, partitioned (nearly) evenly across 20 different newsgroups  For background information on this dataset, [check out this link](http://qwone.com/~jason/20Newsgroups/). \n",
    "\n",
    "Here we download 4 of the 20 categories of this dataset for both training and testing datasets. "
   ]
  },
  {
   "cell_type": "code",
   "execution_count": 9,
   "metadata": {},
   "outputs": [
    {
     "name": "stdout",
     "output_type": "stream",
     "text": [
      "size of training set: 2257\n",
      "size of validation set: 1502\n",
      "classes: ['alt.atheism', 'comp.graphics', 'sci.med', 'soc.religion.christian']\n"
     ]
    }
   ],
   "source": [
    "categories = ['alt.atheism', 'soc.religion.christian',\n",
    "             'comp.graphics', 'sci.med']\n",
    "\n",
    "\n",
    "from sklearn.datasets import fetch_20newsgroups\n",
    "\n",
    "mydata_train = fetch_20newsgroups(subset='train', shuffle=True, categories=categories, \n",
    "                                  remove = ('headers', 'footers', 'quotes'), random_state=42)\n",
    "\n",
    "mydata_test = fetch_20newsgroups(subset='test', shuffle=True, categories=categories, \n",
    "                                  remove = ('headers', 'footers', 'quotes'), random_state=42)\n",
    "\n",
    "print('size of training set: %s' % (len(mydata_train ['data'])))\n",
    "print('size of validation set: %s' % (len(mydata_test['data'])))\n",
    "print('classes: %s' % (mydata_train.target_names))"
   ]
  },
  {
   "cell_type": "markdown",
   "metadata": {},
   "source": [
    "Printing the first few lines of one of the items in the training data. "
   ]
  },
  {
   "cell_type": "code",
   "execution_count": 23,
   "metadata": {
    "scrolled": true
   },
   "outputs": [
    {
     "name": "stdout",
     "output_type": "stream",
     "text": [
      "Hello,\n",
      "\n",
      "I'm writing a paper on the role of the catholic church in Poland after 1989. \n",
      "Can anyone tell me more about this, or fill me in on recent books/articles(\n",
      "in english, german or french). Most important for me is the role of the \n"
     ]
    }
   ],
   "source": [
    "print(\"\\n\".join(mydata_train.data[3].split(\"\\n\")[:5]))"
   ]
  },
  {
   "cell_type": "code",
   "execution_count": 12,
   "metadata": {},
   "outputs": [
    {
     "data": {
      "text/plain": [
       "array([1, 3, 3, 3])"
      ]
     },
     "execution_count": 12,
     "metadata": {},
     "output_type": "execute_result"
    }
   ],
   "source": [
    "mydata_train.target[1:5]"
   ]
  },
  {
   "cell_type": "markdown",
   "metadata": {},
   "source": [
    "Checking the number of each group."
   ]
  },
  {
   "cell_type": "code",
   "execution_count": 24,
   "metadata": {},
   "outputs": [
    {
     "data": {
      "text/plain": [
       "(array([0, 1, 2, 3]), array([480, 584, 594, 599]))"
      ]
     },
     "execution_count": 24,
     "metadata": {},
     "output_type": "execute_result"
    }
   ],
   "source": [
    "import numpy as np\n",
    "targets, frequency = np.unique(mydata_train.target, return_counts=True)\n",
    "targets, frequency"
   ]
  },
  {
   "cell_type": "markdown",
   "metadata": {},
   "source": [
    "Get an idea of how the classes of this data are distributed"
   ]
  },
  {
   "cell_type": "code",
   "execution_count": 26,
   "metadata": {},
   "outputs": [
    {
     "data": {
      "image/png": "[encoded data removed]",
      "text/plain": [
       "<Figure size 640x240 with 1 Axes>"
      ]
     },
     "metadata": {},
     "output_type": "display_data"
    }
   ],
   "source": [
    "import matplotlib.pyplot as plt\n",
    "%matplotlib inline\n",
    "\n",
    "fig = plt.figure(figsize=(8, 3), dpi= 80, facecolor='w', edgecolor='k')\n",
    "plt.bar(mydata_train.target_names, frequency)\n",
    "plt.title('Class distribution of 4 Newsgroups Test Data')\n",
    "plt.xlabel('News Group')\n",
    "plt.ylabel('Frequency')\n",
    "plt.show()"
   ]
  },
  {
   "cell_type": "markdown",
   "metadata": {},
   "source": [
    "This is a quick DataFrame view of what this dataset looks like"
   ]
  },
  {
   "cell_type": "code",
   "execution_count": 48,
   "metadata": {},
   "outputs": [
    {
     "data": {
      "text/html": [
       "<div>\n",
       "<style scoped>\n",
       "    .dataframe tbody tr th:only-of-type {\n",
       "        vertical-align: middle;\n",
       "    }\n",
       "\n",
       "    .dataframe tbody tr th {\n",
       "        vertical-align: top;\n",
       "    }\n",
       "\n",
       "    .dataframe thead th {\n",
       "        text-align: right;\n",
       "    }\n",
       "</style>\n",
       "<table border=\"1\" class=\"dataframe\">\n",
       "  <thead>\n",
       "    <tr style=\"text-align: right;\">\n",
       "      <th></th>\n",
       "      <th>data</th>\n",
       "      <th>target</th>\n",
       "    </tr>\n",
       "  </thead>\n",
       "  <tbody>\n",
       "    <tr>\n",
       "      <th>0</th>\n",
       "      <td>Does anyone know of a good way (standard PC ap...</td>\n",
       "      <td>1</td>\n",
       "    </tr>\n",
       "    <tr>\n",
       "      <th>1</th>\n",
       "      <td>Hi,\\n\\n\\tI have a problem, I hope some of the ...</td>\n",
       "      <td>1</td>\n",
       "    </tr>\n",
       "    <tr>\n",
       "      <th>2</th>\n",
       "      <td>(Well, I'll email also, but this may apply to ...</td>\n",
       "      <td>3</td>\n",
       "    </tr>\n",
       "    <tr>\n",
       "      <th>3</th>\n",
       "      <td>Hello,\\n\\nI'm writing a paper on the role of t...</td>\n",
       "      <td>3</td>\n",
       "    </tr>\n",
       "    <tr>\n",
       "      <th>4</th>\n",
       "      <td></td>\n",
       "      <td>3</td>\n",
       "    </tr>\n",
       "  </tbody>\n",
       "</table>\n",
       "</div>"
      ],
      "text/plain": [
       "                                                data  target\n",
       "0  Does anyone know of a good way (standard PC ap...       1\n",
       "1  Hi,\\n\\n\\tI have a problem, I hope some of the ...       1\n",
       "2  (Well, I'll email also, but this may apply to ...       3\n",
       "3  Hello,\\n\\nI'm writing a paper on the role of t...       3\n",
       "4                                                          3"
      ]
     },
     "execution_count": 48,
     "metadata": {},
     "output_type": "execute_result"
    }
   ],
   "source": [
    "import pandas as pd\n",
    "mydata_train_df = pd.DataFrame({'data': mydata_train.data, 'target': mydata_train.target})\n",
    "mydata_train_df.head()"
   ]
  },
  {
   "cell_type": "markdown",
   "metadata": {},
   "source": [
    "## Feature Extraction"
   ]
  },
  {
   "cell_type": "markdown",
   "metadata": {},
   "source": [
    "In order to perform machine learning on text documents, we first need to turn the text content into numerical feature vectors.\n",
    "\n",
    "\n",
    "### Bags of Words\n",
    "The most intuitive way to do so is to use a bags of words representation:\n",
    "\n",
    "Assign a fixed integer id to each word occurring in any document of the training set (for instance by building a dictionary from words to integer indices).  For each document #i, count the number of occurrences of each word w and store it in `X[i, j]` as the value of feature #j where j is the index of word w in the dictionary.\n",
    "\n",
    "The bags of words representation implies that n_features is the number of distinct words in the corpus: this number is typically larger than 100,000.\n",
    "\n",
    "Fortunately, most values in `X` will be zeros since for a given document less than a few thousand distinct words will be used. For this reason we say that bags of words are typically high-dimensional sparse datasets. We can save a lot of memory by only storing the non-zero parts of the feature vectors in memory.\n",
    "\n",
    "`scipy.sparse` matrices are data structures that do exactly this, and `scikit-learn` has built-in support for these structures.\n",
    "\n",
    "Text preprocessing, tokenizing and filtering of stopwords are all included in [`CountVectorizer`](https://scikit-learn.org/stable/modules/generated/sklearn.feature_extraction.text.CountVectorizer.html#sklearn.feature_extraction.text.CountVectorizer), which builds a dictionary of features and transforms documents to feature vectors."
   ]
  },
  {
   "cell_type": "code",
   "execution_count": 31,
   "metadata": {},
   "outputs": [
    {
     "data": {
      "text/plain": [
       "(2257, 28865)"
      ]
     },
     "execution_count": 31,
     "metadata": {},
     "output_type": "execute_result"
    }
   ],
   "source": [
    "from sklearn.feature_extraction.text import CountVectorizer\n",
    "count_vect = CountVectorizer()\n",
    "X_train_counts = count_vect.fit_transform(mydata_train.data)\n",
    "X_train_counts.shape"
   ]
  },
  {
   "cell_type": "markdown",
   "metadata": {},
   "source": [
    "CountVectorizer supports counts of N-gram of words or consecutive characters.   \n",
    "For a quick understanding of what an 'N-grams' means, look at the example under the [Wikipedia page for N-grams of words](https://en.wikipedia.org/wiki/N-gram#:~:text=In%20the%20fields%20of%20computational,a%20text%20or%20speech%20corpus)\n",
    "\n",
    "\n",
    "Once fitted, the vectorizer has built a dictionary of feature indices. Here we look up the index for the word 'apple'"
   ]
  },
  {
   "cell_type": "code",
   "execution_count": 49,
   "metadata": {},
   "outputs": [
    {
     "data": {
      "text/plain": [
       "3294"
      ]
     },
     "execution_count": 49,
     "metadata": {},
     "output_type": "execute_result"
    }
   ],
   "source": [
    "count_vect.vocabulary_.get(u'apple')"
   ]
  },
  {
   "cell_type": "code",
   "execution_count": 54,
   "metadata": {},
   "outputs": [
    {
     "data": {
      "text/plain": [
       "28767"
      ]
     },
     "execution_count": 54,
     "metadata": {},
     "output_type": "execute_result"
    }
   ],
   "source": [
    "count_vect.vocabulary_.get(u'you')"
   ]
  },
  {
   "cell_type": "markdown",
   "metadata": {},
   "source": [
    "### Using Frequencies instead of Occurances\n",
    "Occurrence count is a good start but there is an issue: longer documents will have higher average count values than shorter documents, even though they might talk about the same topics.\n",
    "\n",
    "To avoid these potential discrepancies it suffices to divide the number of occurrences of each word in a document by the total number of words in the document: these new features are called `tf` for Term Frequencies.\n",
    "\n",
    "Another refinement on top of `tf` is to downscale weights for words that occur in many documents in the corpus and are therefore less informative than those that occur only in a smaller portion of the corpus.\n",
    "\n",
    "Words such as `you` or `and` aren't particularly helpeful for understanding what the document is about since \n",
    "\n",
    "This downscaling is called `tf–idf` for Term Frequency times Inverse Document Frequency. The first example is for `tf`.  \n"
   ]
  },
  {
   "cell_type": "code",
   "execution_count": 55,
   "metadata": {},
   "outputs": [
    {
     "data": {
      "text/plain": [
       "(2257, 28865)"
      ]
     },
     "execution_count": 55,
     "metadata": {},
     "output_type": "execute_result"
    }
   ],
   "source": [
    "from sklearn.feature_extraction.text import TfidfTransformer\n",
    "tf_transformer = TfidfTransformer(use_idf=False).fit(X_train_counts)\n",
    "X_train_tf = tf_transformer.transform(X_train_counts)\n",
    "X_train_tf.shape"
   ]
  },
  {
   "cell_type": "markdown",
   "metadata": {},
   "source": [
    "The second example is for TF-IDF.  This is what we'll use to train the classification. "
   ]
  },
  {
   "cell_type": "code",
   "execution_count": 56,
   "metadata": {},
   "outputs": [
    {
     "data": {
      "text/plain": [
       "(2257, 28865)"
      ]
     },
     "execution_count": 56,
     "metadata": {},
     "output_type": "execute_result"
    }
   ],
   "source": [
    "tfidf_transformer = TfidfTransformer()\n",
    "X_train_tfidf = tfidf_transformer.fit_transform(X_train_counts)\n",
    "X_train_tfidf.shape"
   ]
  },
  {
   "cell_type": "markdown",
   "metadata": {},
   "source": [
    "## Training a NB Classifier\n",
    "\n",
    "Now that we have our features, we can train a classifier to try to predict the category of a post. Let’s start with a Naïve Bayes classifier, which provides a nice baseline for this task.\n",
    "\n",
    "`sckit-learn` has [great documentation](https://scikit-learn.org/stable/modules/naive_bayes.html#naive-bayes) on this classifier.\n",
    "\n",
    "There are several variants of this classifier; the one most suitable for word counts is the multinomial variant:"
   ]
  },
  {
   "cell_type": "code",
   "execution_count": 59,
   "metadata": {},
   "outputs": [],
   "source": [
    "from sklearn.naive_bayes import MultinomialNB\n",
    "clf = MultinomialNB().fit(X_train_tfidf, mydata_train.target)"
   ]
  },
  {
   "cell_type": "markdown",
   "metadata": {},
   "source": [
    "Now that we have our model, we'll train it using some sample phrases. "
   ]
  },
  {
   "cell_type": "code",
   "execution_count": 74,
   "metadata": {},
   "outputs": [
    {
     "name": "stdout",
     "output_type": "stream",
     "text": [
      "'God is love' => soc.religion.christian\n",
      "'OpenGL on the GPU is fast' => comp.graphics\n",
      "'Dallas County reports record 30 new coronavirus deaths' => sci.med\n"
     ]
    }
   ],
   "source": [
    "phrases_new = ['God is love', 'OpenGL on the GPU is fast',  'Dallas County reports record 30 new coronavirus deaths']\n",
    "\n",
    "X_new_counts = count_vect.transform(phrases_new)\n",
    "X_new_tfidf = tfidf_transformer.transform(X_new_counts)\n",
    "\n",
    "predicted = clf.predict(X_new_tfidf)\n",
    "\n",
    "for doc, category in zip(phrases_new, predicted):\n",
    "    print('%r => %s' % (doc, mydata_train.target_names[category]))\n"
   ]
  },
  {
   "cell_type": "markdown",
   "metadata": {},
   "source": [
    "On these limited new phrases, it does perfectly fine but we need to gauge performance on more data; this is what the test data is for!\n",
    "\n",
    "## Training via Pipeline \n",
    "Note that every step we took before (vectorizer => transformer => classifier) can be abstracted away  by using a [Pipeline](https://scikit-learn.org/stable/modules/generated/sklearn.pipeline.Pipeline.html#sklearn.pipeline.Pipeline) class. \n",
    "We demonstrate that here. \n",
    "\n",
    "Note that the names vect, tfidf and clf (classifier) are arbitrary. We will use them to perform grid search for suitable hyperparameters below. We can now train the model with a single command:"
   ]
  },
  {
   "cell_type": "code",
   "execution_count": 116,
   "metadata": {},
   "outputs": [
    {
     "name": "stdout",
     "output_type": "stream",
     "text": [
      "0.6691078561917443\n"
     ]
    }
   ],
   "source": [
    "from sklearn.pipeline import Pipeline\n",
    "\n",
    "text_clf = Pipeline([\n",
    "        ('vect', CountVectorizer()),\n",
    "        ('tfidf', TfidfTransformer()),\n",
    "        ('clf', MultinomialNB())])\n",
    "\n",
    "# fittingthe data\n",
    "text_clf.fit(mydata_train.data, mydata_train.target)\n",
    "print(text_clf.score(mydata_test.data, mydata_test.target))"
   ]
  },
  {
   "cell_type": "markdown",
   "metadata": {},
   "source": [
    "So NB has an accuracy rate of 66.9% on the testing data. Let's look at the full metrics\n",
    "\n",
    "## Assessing the Performance of Classifiers"
   ]
  },
  {
   "cell_type": "code",
   "execution_count": 117,
   "metadata": {},
   "outputs": [
    {
     "name": "stdout",
     "output_type": "stream",
     "text": [
      "                        precision    recall  f1-score   support\n",
      "\n",
      "           alt.atheism       0.96      0.08      0.16       319\n",
      "         comp.graphics       0.94      0.83      0.88       389\n",
      "               sci.med       0.96      0.67      0.79       396\n",
      "soc.religion.christian       0.46      0.98      0.63       398\n",
      "\n",
      "              accuracy                           0.67      1502\n",
      "             macro avg       0.83      0.64      0.61      1502\n",
      "          weighted avg       0.82      0.67      0.63      1502\n",
      "\n"
     ]
    }
   ],
   "source": [
    "from sklearn import metrics\n",
    "predicted = text_clf.predict(mydata_test.data)\n",
    "print(metrics.classification_report(mydata_test.target, predicted, target_names=mydata_test.target_names))"
   ]
  },
  {
   "cell_type": "markdown",
   "metadata": {},
   "source": [
    "Note that precision is informally defined as the following:\n",
    "$$precision = \\frac{(relevant \\hspace{2mm} documents) \\cup (classified \\hspace{2mm} documents) }{classified \\hspace{2mm} documents}$$\n",
    "\n",
    "We also have the informal definition of recall here: \n",
    "\n",
    "$$recall = \\frac{(relevant \\hspace{2mm} documents) \\cup (classified \\hspace{2mm} documents) }{relevant \\hspace{2mm} documents}$$\n",
    "\n",
    "So based on what we know about these evaluation metrics, when Multinomial Naive Bayes classifies a document,  it is very likely that it selects the correct one.  \n",
    "\n",
    "The one category where this does not apply is the `soc.religion.christian` category.    Far too many things in that are incorrect are classified as `soc.religion.christian`, making it have a very low precision.  In fact, based on the recall for the category, many of the things that should be in `alt.atheism` (and to a lesser extent `sci.med`) ends up being categorized as `soc.religion.christian` instead.  Notice that the recall is highest for `soc.religion.christian`, which makes sense. \n",
    "\n",
    "\n",
    "The *F measure* is then defined as the harmonic mean of precision and recall.\n",
    "\n",
    "$$F = 2 \\cdot \\frac{(precision) \\cdot (recall) }{precision + recall}$$"
   ]
  },
  {
   "cell_type": "markdown",
   "metadata": {},
   "source": [
    " ## Training a Logistic Regression Classifier\n",
    "\n",
    "Now we create a pipeline for Logistic Regression."
   ]
  },
  {
   "cell_type": "code",
   "execution_count": 114,
   "metadata": {},
   "outputs": [
    {
     "name": "stderr",
     "output_type": "stream",
     "text": [
      "/Users/shokawano/anaconda3/envs/py_3.7/lib/python3.7/site-packages/sklearn/linear_model/logistic.py:432: FutureWarning: Default solver will be changed to 'lbfgs' in 0.22. Specify a solver to silence this warning.\n",
      "  FutureWarning)\n",
      "/Users/shokawano/anaconda3/envs/py_3.7/lib/python3.7/site-packages/sklearn/linear_model/logistic.py:469: FutureWarning: Default multi_class will be changed to 'auto' in 0.22. Specify the multi_class option to silence this warning.\n",
      "  \"this warning.\", FutureWarning)\n"
     ]
    },
    {
     "name": "stdout",
     "output_type": "stream",
     "text": [
      "0.7709720372836218\n"
     ]
    }
   ],
   "source": [
    "from sklearn.linear_model import LogisticRegression\n",
    "\n",
    "text_clf = Pipeline([\n",
    "        ('vect', CountVectorizer()),\n",
    "        ('tfidf', TfidfTransformer()),\n",
    "        ('clf', LogisticRegression())])\n",
    "\n",
    "text_clf.fit(mydata_train.data, mydata_train.target)\n",
    "print(text_clf.score(mydata_test.data, mydata_test.target))"
   ]
  },
  {
   "cell_type": "markdown",
   "metadata": {},
   "source": [
    "So that's an accuracy of 77% on the testing set.  Not bad!\n",
    "Here are the full evaluation metrics"
   ]
  },
  {
   "cell_type": "code",
   "execution_count": 115,
   "metadata": {},
   "outputs": [
    {
     "name": "stdout",
     "output_type": "stream",
     "text": [
      "                        precision    recall  f1-score   support\n",
      "\n",
      "           alt.atheism       0.77      0.50      0.61       319\n",
      "         comp.graphics       0.74      0.93      0.83       389\n",
      "               sci.med       0.84      0.80      0.82       396\n",
      "soc.religion.christian       0.74      0.81      0.77       398\n",
      "\n",
      "              accuracy                           0.77      1502\n",
      "             macro avg       0.77      0.76      0.76      1502\n",
      "          weighted avg       0.77      0.77      0.76      1502\n",
      "\n"
     ]
    }
   ],
   "source": [
    "predicted = text_clf.predict(mydata_test.data)\n",
    "print(metrics.classification_report(mydata_test.target, predicted, target_names=mydata_test.target_names))"
   ]
  },
  {
   "cell_type": "markdown",
   "metadata": {},
   "source": [
    "Overall, the logistic regression has a higher recall; this comes at a cost of lower precision. \n",
    "The vast improvements are in the recall numbers for `sci.med` and `alt.atheism`, with improvements of 13% and 42% respectively (absolute). \n",
    "\n",
    "It is notable that F measure is higher for logistic regression overall. "
   ]
  }
 ],
 "metadata": {
  "kernelspec": {
   "display_name": "Python 3",
   "language": "python",
   "name": "python3"
  },
  "language_info": {
   "codemirror_mode": {
    "name": "ipython",
    "version": 3
   },
   "file_extension": ".py",
   "mimetype": "text/x-python",
   "name": "python",
   "nbconvert_exporter": "python",
   "pygments_lexer": "ipython3",
   "version": "3.7.3"
  }
 },
 "nbformat": 4,
 "nbformat_minor": 2
}
